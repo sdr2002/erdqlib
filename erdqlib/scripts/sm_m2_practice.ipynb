{
 "cells": [
  {
   "cell_type": "code",
   "execution_count": 1,
   "id": "f2950d3a-77a5-4eaf-9403-15a2518cc0df",
   "metadata": {},
   "outputs": [],
   "source": [
    "from erdqlib.scripts import sm_heston, sm_mertonj, sm_bates\n",
    "from erdqlib.scripts.caculator import FtMethod\n",
    "from erdqlib.src.common.option import OptionSide"
   ]
  },
  {
   "cell_type": "code",
   "execution_count": 2,
   "id": "935d5931-ba89-4131-b727-ddf2834470a5",
   "metadata": {},
   "outputs": [
    {
     "data": {
      "text/plain": [
       "np.float64(4.027661313670222)"
      ]
     },
     "execution_count": 2,
     "metadata": {},
     "output_type": "execute_result"
    }
   ],
   "source": [
    "\"\"\"Example: price a call and put option under Bates (1996) model.\"\"\"\n",
    "sm_bates.B96_eur_option_value(\n",
    "    S0 = 100,\n",
    "    K = 100,\n",
    "    T = 1,\n",
    "    r = 0.05,\n",
    "    kappa_v = 1.5,\n",
    "    theta_v = 0.02,\n",
    "    sigma_v = 0.15,\n",
    "    rho = 0.1,\n",
    "    v0 = 0.01,\n",
    "    lamb = 0.25,\n",
    "    mu = -0.2,\n",
    "    delta = 0.1,\n",
    "    side = OptionSide.PUT,\n",
    "    method = FtMethod.LEWIS\n",
    ")"
   ]
  },
  {
   "cell_type": "code",
   "execution_count": 3,
   "id": "3fa46bce-f37e-4ec6-93fa-2e3f470b669d",
   "metadata": {},
   "outputs": [
    {
     "data": {
      "text/plain": [
       "np.float64(15.070796331517911)"
      ]
     },
     "execution_count": 3,
     "metadata": {},
     "output_type": "execute_result"
    }
   ],
   "source": [
    "\"\"\"Example: price a call and put option under Bates (1996) model.\"\"\"\n",
    "sm_mertonj.M76_eur_option_value(\n",
    "    S0=100,\n",
    "    K=100,\n",
    "    T=1,\n",
    "    r=0.05,\n",
    "    sigma=0.4,\n",
    "    lamb=1.,\n",
    "    mu=-0.2,\n",
    "    delta=0.1,\n",
    "    side=OptionSide.PUT,\n",
    ")"
   ]
  },
  {
   "cell_type": "code",
   "execution_count": 4,
   "id": "8af8606e-f882-4a4c-976e-a0bd92173857",
   "metadata": {},
   "outputs": [
    {
     "data": {
      "text/plain": [
       "np.float64(4.027661313670222)"
      ]
     },
     "execution_count": 4,
     "metadata": {},
     "output_type": "execute_result"
    }
   ],
   "source": [
    "\"\"\"Example: price a call and put option under Bates (1996) model.\"\"\"\n",
    "sm_bates.B96_eur_option_value(\n",
    "    S0 = 100,\n",
    "    K = 100,\n",
    "    T = 1,\n",
    "    r = 0.05,\n",
    "    kappa_v = 1.5,\n",
    "    theta_v = 0.02,\n",
    "    sigma_v = 0.15,\n",
    "    rho = 0.1,\n",
    "    v0 = 0.01,\n",
    "    lamb = 0.25,\n",
    "    mu = -0.2,\n",
    "    delta = 0.1,\n",
    "    side = OptionSide.PUT,\n",
    "    method = FtMethod.LEWIS\n",
    ")"
   ]
  },
  {
   "cell_type": "code",
   "execution_count": 5,
   "id": "96dd2a5f-2aa6-4a2c-bf4a-3f78634dd34f",
   "metadata": {},
   "outputs": [
    {
     "data": {
      "text/plain": [
       "np.float64(6.603606550470431e-13)"
      ]
     },
     "execution_count": 5,
     "metadata": {},
     "output_type": "execute_result"
    }
   ],
   "source": [
    "\"\"\"Example: price a call and put option under Bates (1996) model.\"\"\"\n",
    "sm_mertonj.M76_eur_option_value(\n",
    "    S0=1.35,\n",
    "    K=100,\n",
    "    T=90/365,\n",
    "    r=0.0075,\n",
    "    sigma=0.25,\n",
    "    lamb=1.85,\n",
    "    mu=-0.45,\n",
    "    delta=0.15,\n",
    "    side=OptionSide.CALL,\n",
    ")"
   ]
  },
  {
   "cell_type": "code",
   "execution_count": 6,
   "id": "bbe2eefa-4f66-4785-82fe-e70bc227bef1",
   "metadata": {},
   "outputs": [
    {
     "data": {
      "text/plain": [
       "np.float64(0.0048594378338602615)"
      ]
     },
     "execution_count": 6,
     "metadata": {},
     "output_type": "execute_result"
    }
   ],
   "source": [
    "\"\"\"Example: price a call and put option under Bates (1996) model.\"\"\"\n",
    "sm_bates.B96_eur_option_value(\n",
    "    S0 = 10.65,\n",
    "    K = 22,\n",
    "    T = 5/365,\n",
    "    r = 0,\n",
    "    kappa_v = 0.85,\n",
    "    theta_v = 0.16,\n",
    "    sigma_v = 0.15,\n",
    "    rho = -0.95,\n",
    "    v0 = 0.016,\n",
    "    lamb = 0.1,\n",
    "    mu = -0.05,\n",
    "    delta = 0.9,\n",
    "    side = OptionSide.CALL,\n",
    "    method = FtMethod.CARRMADAN\n",
    ")"
   ]
  },
  {
   "cell_type": "code",
   "execution_count": 8,
   "id": "1339ef94-c322-4464-b1c7-39811aca1b24",
   "metadata": {},
   "outputs": [
    {
     "data": {
      "text/plain": [
       "np.float64(1.7411184582820187)"
      ]
     },
     "execution_count": 8,
     "metadata": {},
     "output_type": "execute_result"
    }
   ],
   "source": [
    "\"\"\"Example: price a call and put option under Bates (1996) model.\"\"\"\n",
    "sm_mertonj.M76_eur_option_value(\n",
    "    S0=8.75,\n",
    "    K=10,\n",
    "    T=35/365,\n",
    "    r=0,\n",
    "    sigma=0.65,\n",
    "    lamb=2,\n",
    "    mu=-0.65,\n",
    "    delta=0.1,\n",
    "    side=OptionSide.PUT,\n",
    ")"
   ]
  },
  {
   "cell_type": "code",
   "execution_count": 11,
   "id": "5643d606-d91e-49fc-a569-b2ffebb37584",
   "metadata": {},
   "outputs": [
    {
     "data": {
      "text/plain": [
       "np.float64(0.25702475021319415)"
      ]
     },
     "execution_count": 11,
     "metadata": {},
     "output_type": "execute_result"
    }
   ],
   "source": [
    "\"\"\"Example: price a call and put option under Bates (1996) model.\"\"\"\n",
    "sm_bates.B96_eur_option_value(\n",
    "    S0 = 10.65,\n",
    "    K = 22,\n",
    "    T =265/365,\n",
    "    r = 0,\n",
    "    kappa_v = 0.85,\n",
    "    theta_v = 0.16,\n",
    "    sigma_v = 0.15,\n",
    "    rho = -0.95,\n",
    "    v0 = 0.016,\n",
    "    lamb = 0.1,\n",
    "    mu = -0.05,\n",
    "    delta = 0.9,\n",
    "    side = OptionSide.CALL,\n",
    "    method = FtMethod.LEWIS\n",
    ")"
   ]
  },
  {
   "cell_type": "code",
   "execution_count": 12,
   "id": "d16bb4a8-d50e-404f-92fa-4c72bbf5a37f",
   "metadata": {},
   "outputs": [
    {
     "data": {
      "text/plain": [
       "np.float64(0.4911184582820187)"
      ]
     },
     "execution_count": 12,
     "metadata": {},
     "output_type": "execute_result"
    }
   ],
   "source": [
    "\"\"\"Example: price a call and put option under Bates (1996) model.\"\"\"\n",
    "sm_mertonj.M76_eur_option_value(\n",
    "    S0=8.75,\n",
    "    K=10,\n",
    "    T=35/365,\n",
    "    r=0,\n",
    "    sigma=0.65,\n",
    "    lamb=2,\n",
    "    mu=-0.65,\n",
    "    delta=0.1,\n",
    "    side=OptionSide.CALL,\n",
    ")"
   ]
  },
  {
   "cell_type": "code",
   "execution_count": 13,
   "id": "41a606fd-237f-4138-9a95-cbe5f722d095",
   "metadata": {},
   "outputs": [
    {
     "data": {
      "text/plain": [
       "np.float64(11.35485943783386)"
      ]
     },
     "execution_count": 13,
     "metadata": {},
     "output_type": "execute_result"
    }
   ],
   "source": [
    "\"\"\"Example: price a call and put option under Bates (1996) model.\"\"\"\n",
    "sm_bates.B96_eur_option_value(\n",
    "    S0 = 10.65,\n",
    "    K = 22,\n",
    "    T = 5/365,\n",
    "    r = 0,\n",
    "    kappa_v = 0.85,\n",
    "    theta_v = 0.16,\n",
    "    sigma_v = 0.15,\n",
    "    rho = -0.95,\n",
    "    v0 = 0.016,\n",
    "    lamb = 0.1,\n",
    "    mu = -0.05,\n",
    "    delta = 0.9,\n",
    "    side = OptionSide.PUT,\n",
    "    method = FtMethod.CARRMADAN\n",
    ")"
   ]
  },
  {
   "cell_type": "code",
   "execution_count": 14,
   "id": "e5beef62-cd66-450a-a147-f75b883bca8b",
   "metadata": {},
   "outputs": [
    {
     "data": {
      "text/plain": [
       "np.float64(11.607024750213194)"
      ]
     },
     "execution_count": 14,
     "metadata": {},
     "output_type": "execute_result"
    }
   ],
   "source": [
    "\"\"\"Example: price a call and put option under Bates (1996) model.\"\"\"\n",
    "sm_bates.B96_eur_option_value(\n",
    "    S0 = 10.65,\n",
    "    K = 22,\n",
    "    T = 265/365,\n",
    "    r = 0,\n",
    "    kappa_v = 0.85,\n",
    "    theta_v = 0.16,\n",
    "    sigma_v = 0.15,\n",
    "    rho = -0.95,\n",
    "    v0 = 0.016,\n",
    "    lamb = 0.1,\n",
    "    mu = -0.05,\n",
    "    delta = 0.9,\n",
    "    side = OptionSide.PUT,\n",
    "    method = FtMethod.LEWIS\n",
    ")"
   ]
  },
  {
   "cell_type": "code",
   "execution_count": null,
   "id": "d56b9bd7-de8f-4356-8927-be539eb8277e",
   "metadata": {},
   "outputs": [],
   "source": []
  }
 ],
 "metadata": {
  "kernelspec": {
   "display_name": "Python 3 (ipykernel)",
   "language": "python",
   "name": "python3"
  },
  "language_info": {
   "codemirror_mode": {
    "name": "ipython",
    "version": 3
   },
   "file_extension": ".py",
   "mimetype": "text/x-python",
   "name": "python",
   "nbconvert_exporter": "python",
   "pygments_lexer": "ipython3",
   "version": "3.12.3"
  }
 },
 "nbformat": 4,
 "nbformat_minor": 5
}
